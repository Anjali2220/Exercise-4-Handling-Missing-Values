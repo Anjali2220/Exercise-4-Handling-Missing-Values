{
  "nbformat": 4,
  "nbformat_minor": 0,
  "metadata": {
    "colab": {
      "provenance": []
    },
    "kernelspec": {
      "name": "python3",
      "display_name": "Python 3"
    },
    "language_info": {
      "name": "python"
    }
  },
  "cells": [
    {
      "cell_type": "code",
      "execution_count": 1,
      "metadata": {
        "id": "CurC2TmGhUFm"
      },
      "outputs": [],
      "source": [
        "# Import necessary libraries\n",
        "import pandas as pd\n",
        "import numpy as np\n",
        "from sklearn.impute import SimpleImputer\n",
        "from sklearn.preprocessing import StandardScaler, MinMaxScaler\n",
        "from sklearn.feature_selection import mutual_info_classif, RFE\n",
        "from sklearn.linear_model import Lasso, LogisticRegression\n",
        "from sklearn.model_selection import train_test_split"
      ]
    },
    {
      "cell_type": "code",
      "source": [
        "# **Step 1: Create a Synthetic Dataset**\n",
        "np.random.seed(42)\n",
        "data = {\n",
        "    'Feature1': np.random.normal(50, 10, 100),  # Numerical feature\n",
        "    'Feature2': np.random.uniform(10, 100, 100),  # Numerical feature\n",
        "    'Feature3': np.random.choice(['A', 'B', 'C'], size=100),  # Categorical feature\n",
        "    'Feature4': np.random.randint(1, 100, 100),  # Numerical feature\n",
        "    'Feature5': np.random.normal(100, 20, 100),  # Numerical feature\n",
        "    'Target': np.random.choice([0, 1], size=100)  # Binary target\n",
        "}"
      ],
      "metadata": {
        "id": "-Cab50wrheLV"
      },
      "execution_count": 2,
      "outputs": []
    },
    {
      "cell_type": "code",
      "source": [
        "# Convert to DataFrame\n",
        "df = pd.DataFrame(data)"
      ],
      "metadata": {
        "id": "LMibvueRhmkV"
      },
      "execution_count": 3,
      "outputs": []
    },
    {
      "cell_type": "code",
      "source": [
        "# Introduce missing values\n",
        "df.loc[np.random.choice(df.index, size=10, replace=False), 'Feature1'] = np.nan\n",
        "df.loc[np.random.choice(df.index, size=5, replace=False), 'Feature3'] = np.nan"
      ],
      "metadata": {
        "id": "NXu0Ff-YhsDH"
      },
      "execution_count": 4,
      "outputs": []
    },
    {
      "cell_type": "code",
      "source": [
        "# Display the initial dataset\n",
        "print(\"Original Dataset:\")\n",
        "print(df.head())"
      ],
      "metadata": {
        "colab": {
          "base_uri": "https://localhost:8080/"
        },
        "id": "alt0YlcThvmc",
        "outputId": "b4fc1417-b7d6-4aa1-98b6-378ecca0911c"
      },
      "execution_count": 5,
      "outputs": [
        {
          "output_type": "stream",
          "name": "stdout",
          "text": [
            "Original Dataset:\n",
            "    Feature1   Feature2 Feature3  Feature4    Feature5  Target\n",
            "0  54.967142  47.566990        B        68   86.620503       0\n",
            "1  48.617357  29.989703        A         6   82.638315       1\n",
            "2  56.476885  20.787883        B        96   89.099248       1\n",
            "3  65.230299  40.385365        A        94   74.652354       1\n",
            "4  47.658466  94.861873        C        47  102.205992       1\n"
          ]
        }
      ]
    },
    {
      "cell_type": "code",
      "source": [
        "# **2. Handling Missing Values**\n",
        "print(\"\\nHandling Missing Values:\")\n",
        "# Impute numerical features with mean\n",
        "num_imputer = SimpleImputer(strategy='mean')\n",
        "df[['Feature1', 'Feature2', 'Feature4', 'Feature5']] = num_imputer.fit_transform(df[['Feature1', 'Feature2', 'Feature4', 'Feature5']])"
      ],
      "metadata": {
        "colab": {
          "base_uri": "https://localhost:8080/"
        },
        "id": "GuSsdc49hzlk",
        "outputId": "6868cdbc-2805-40e6-bc0c-ebf6e2c1423d"
      },
      "execution_count": 6,
      "outputs": [
        {
          "output_type": "stream",
          "name": "stdout",
          "text": [
            "\n",
            "Handling Missing Values:\n"
          ]
        }
      ]
    },
    {
      "cell_type": "code",
      "source": [
        "# Impute categorical features with mode\n",
        "cat_imputer = SimpleImputer(strategy='most_frequent')\n",
        "df[['Feature3']] = cat_imputer.fit_transform(df[['Feature3']])\n",
        "\n",
        "print(df.head())"
      ],
      "metadata": {
        "colab": {
          "base_uri": "https://localhost:8080/"
        },
        "id": "MXpgu-EeiAiF",
        "outputId": "e05bdcc6-b02c-4ce3-9d08-8225b34e45f6"
      },
      "execution_count": 7,
      "outputs": [
        {
          "output_type": "stream",
          "name": "stdout",
          "text": [
            "    Feature1   Feature2 Feature3  Feature4    Feature5  Target\n",
            "0  54.967142  47.566990        B      68.0   86.620503       0\n",
            "1  48.617357  29.989703        A       6.0   82.638315       1\n",
            "2  56.476885  20.787883        B      96.0   89.099248       1\n",
            "3  65.230299  40.385365        A      94.0   74.652354       1\n",
            "4  47.658466  94.861873        C      47.0  102.205992       1\n"
          ]
        }
      ]
    },
    {
      "cell_type": "code",
      "source": [
        "# **3. Scaling Data**\n",
        "print(\"\\nScaling Data:\")\n",
        "numerical_features = ['Feature1', 'Feature2', 'Feature4', 'Feature5']"
      ],
      "metadata": {
        "colab": {
          "base_uri": "https://localhost:8080/"
        },
        "id": "Kglo_qKuiCJj",
        "outputId": "0e712dd7-9b87-4b34-ad68-4469364a1108"
      },
      "execution_count": 8,
      "outputs": [
        {
          "output_type": "stream",
          "name": "stdout",
          "text": [
            "\n",
            "Scaling Data:\n"
          ]
        }
      ]
    },
    {
      "cell_type": "code",
      "source": [
        "# Standardization\n",
        "scaler = StandardScaler()\n",
        "df_standardized = pd.DataFrame(scaler.fit_transform(df[numerical_features]), columns=numerical_features)"
      ],
      "metadata": {
        "id": "5s-iM5JtiF7E"
      },
      "execution_count": 9,
      "outputs": []
    },
    {
      "cell_type": "code",
      "source": [
        "# Normalization\n",
        "min_max_scaler = MinMaxScaler()\n",
        "df_normalized = pd.DataFrame(min_max_scaler.fit_transform(df[numerical_features]), columns=numerical_features)\n"
      ],
      "metadata": {
        "id": "iiEhE7lGiMq7"
      },
      "execution_count": 10,
      "outputs": []
    },
    {
      "cell_type": "code",
      "source": [
        "print(\"\\nStandardized Data:\")\n",
        "print(df_standardized.head())\n",
        "\n",
        "print(\"\\nNormalized Data:\")\n",
        "print(df_normalized.head())\n"
      ],
      "metadata": {
        "colab": {
          "base_uri": "https://localhost:8080/"
        },
        "id": "jCwQGMd_iSqk",
        "outputId": "d3fc8883-9e5c-4e43-8aa5-5739edd44d66"
      },
      "execution_count": 11,
      "outputs": [
        {
          "output_type": "stream",
          "name": "stdout",
          "text": [
            "\n",
            "Standardized Data:\n",
            "   Feature1  Feature2  Feature4  Feature5\n",
            "0  0.705559 -0.239956  0.595575 -0.563783\n",
            "1 -0.019816 -0.921168 -1.484743 -0.754549\n",
            "2  0.878027 -1.277786  1.535073 -0.445038\n",
            "3  1.877983 -0.518281  1.467966 -1.137116\n",
            "4 -0.129356  1.592969 -0.109049  0.182840\n",
            "\n",
            "Normalized Data:\n",
            "   Feature1  Feature2  Feature4  Feature5\n",
            "0  0.696879  0.420512  0.683673  0.325758\n",
            "1  0.554890  0.221343  0.051020  0.291537\n",
            "2  0.730639  0.117076  0.969388  0.347059\n",
            "3  0.926376  0.339137  0.948980  0.222909\n",
            "4  0.533448  0.956413  0.469388  0.459693\n"
          ]
        }
      ]
    },
    {
      "cell_type": "code",
      "source": [
        "# **4. Handling Noise**\n",
        "print(\"\\nHandling Noise:\")\n",
        "# Inject random noise into Feature1\n",
        "df['Feature1_noisy'] = df['Feature1'] + np.random.normal(0, 5, size=df.shape[0])"
      ],
      "metadata": {
        "colab": {
          "base_uri": "https://localhost:8080/"
        },
        "id": "REUSb66fiXtG",
        "outputId": "b009aad3-eb77-44b7-d998-ddb2f6689454"
      },
      "execution_count": 12,
      "outputs": [
        {
          "output_type": "stream",
          "name": "stdout",
          "text": [
            "\n",
            "Handling Noise:\n"
          ]
        }
      ]
    },
    {
      "cell_type": "code",
      "source": [
        "# Smooth the noisy feature using a rolling mean\n",
        "df['Feature1_smoothed'] = df['Feature1_noisy'].rolling(window=5).mean().fillna(df['Feature1_noisy'])"
      ],
      "metadata": {
        "id": "bdD7MT6SicqU"
      },
      "execution_count": 13,
      "outputs": []
    },
    {
      "cell_type": "code",
      "source": [
        "print(df[['Feature1_noisy', 'Feature1_smoothed']].head())"
      ],
      "metadata": {
        "colab": {
          "base_uri": "https://localhost:8080/"
        },
        "id": "TMsq0IeMiiYt",
        "outputId": "aeb58a33-1fab-4678-8893-e21ed1cd1f87"
      },
      "execution_count": 14,
      "outputs": [
        {
          "output_type": "stream",
          "name": "stdout",
          "text": [
            "   Feature1_noisy  Feature1_smoothed\n",
            "0       58.170052          58.170052\n",
            "1       44.543436          44.543436\n",
            "2       65.711787          65.711787\n",
            "3       66.560075          66.560075\n",
            "4       46.591103          56.315291\n"
          ]
        }
      ]
    },
    {
      "cell_type": "code",
      "source": [
        "# **5. Handling Outliers**\n",
        "print(\"\\nHandling Outliers:\")\n",
        "# Detect outliers using Z-score\n",
        "z_scores = np.abs((df[numerical_features] - df[numerical_features].mean()) / df[numerical_features].std())\n",
        "outliers = z_scores > 3  # Z-score threshold\n",
        "print(\"\\nOutliers Detected:\")\n",
        "print(outliers.sum())"
      ],
      "metadata": {
        "colab": {
          "base_uri": "https://localhost:8080/"
        },
        "id": "Y0ZAckmvijx7",
        "outputId": "501663e2-8e58-434a-8d71-54ca1b3613df"
      },
      "execution_count": 15,
      "outputs": [
        {
          "output_type": "stream",
          "name": "stdout",
          "text": [
            "\n",
            "Handling Outliers:\n",
            "\n",
            "Outliers Detected:\n",
            "Feature1    0\n",
            "Feature2    0\n",
            "Feature4    0\n",
            "Feature5    1\n",
            "dtype: int64\n"
          ]
        }
      ]
    },
    {
      "cell_type": "code",
      "source": [
        "# Remove outliers\n",
        "df_no_outliers = df[(z_scores <= 3).all(axis=1)]\n",
        "print(\"\\nData After Removing Outliers:\")\n",
        "print(df_no_outliers.shape)"
      ],
      "metadata": {
        "colab": {
          "base_uri": "https://localhost:8080/"
        },
        "id": "wGovdi-MinnM",
        "outputId": "06bebffb-f64a-4e6e-8b23-f95830e88f27"
      },
      "execution_count": 16,
      "outputs": [
        {
          "output_type": "stream",
          "name": "stdout",
          "text": [
            "\n",
            "Data After Removing Outliers:\n",
            "(99, 8)\n"
          ]
        }
      ]
    },
    {
      "cell_type": "code",
      "source": [
        "# **6. Feature Selection**\n",
        "print(\"\\nFeature Selection:\")\n",
        "X = df.drop(columns=['Target', 'Feature1_noisy', 'Feature1_smoothed'])\n",
        "y = df['Target']"
      ],
      "metadata": {
        "colab": {
          "base_uri": "https://localhost:8080/"
        },
        "id": "Thsrtkleiqrc",
        "outputId": "afd6349a-5458-4700-fcc6-84bf72c605e7"
      },
      "execution_count": 17,
      "outputs": [
        {
          "output_type": "stream",
          "name": "stdout",
          "text": [
            "\n",
            "Feature Selection:\n"
          ]
        }
      ]
    },
    {
      "cell_type": "code",
      "source": [
        "# Filter Methods: Mutual Information\n",
        "mi_scores = mutual_info_classif(X.select_dtypes(include=['float64', 'int64']), y)\n",
        "mi_scores = pd.Series(mi_scores, index=X.select_dtypes(include=['float64', 'int64']).columns)\n",
        "print(\"\\nMutual Information Scores:\")\n",
        "print(mi_scores.sort_values(ascending=False))"
      ],
      "metadata": {
        "colab": {
          "base_uri": "https://localhost:8080/"
        },
        "id": "t3R68RB7itgT",
        "outputId": "0648331c-a9c5-4bff-d213-face84ca52e6"
      },
      "execution_count": 18,
      "outputs": [
        {
          "output_type": "stream",
          "name": "stdout",
          "text": [
            "\n",
            "Mutual Information Scores:\n",
            "Feature5    0.022682\n",
            "Feature2    0.021619\n",
            "Feature1    0.000000\n",
            "Feature4    0.000000\n",
            "dtype: float64\n"
          ]
        }
      ]
    },
    {
      "cell_type": "code",
      "source": [
        "numerical_features = X.select_dtypes(include=['float64', 'int64']).columns\n",
        "\n",
        "# Fit RFE using only the numerical features\n",
        "model = LogisticRegression(max_iter=1000)\n",
        "rfe = RFE(model, n_features_to_select=3)\n",
        "rfe.fit(X[numerical_features], y)\n",
        "\n",
        "# Print the selected features\n",
        "print(\"\\nSelected Features by RFE:\")\n",
        "print(numerical_features[rfe.support_])\n"
      ],
      "metadata": {
        "colab": {
          "base_uri": "https://localhost:8080/"
        },
        "id": "DzyAuLdHjQed",
        "outputId": "4090af37-319d-422c-e91f-9583d229d741"
      },
      "execution_count": 20,
      "outputs": [
        {
          "output_type": "stream",
          "name": "stdout",
          "text": [
            "\n",
            "Selected Features by RFE:\n",
            "Index(['Feature1', 'Feature2', 'Feature5'], dtype='object')\n"
          ]
        }
      ]
    },
    {
      "cell_type": "code",
      "source": [
        "# Embedded Methods: Lasso Regression\n",
        "lasso = Lasso(alpha=0.1)\n",
        "lasso.fit(X.select_dtypes(include=['float64', 'int64']), y)\n",
        "lasso_coefficients = pd.Series(lasso.coef_, index=X.select_dtypes(include=['float64', 'int64']).columns)\n",
        "print(\"\\nLasso Coefficients:\")\n",
        "print(lasso_coefficients[lasso_coefficients != 0].sort_values(ascending=False))"
      ],
      "metadata": {
        "colab": {
          "base_uri": "https://localhost:8080/"
        },
        "id": "nf1mmCttjkr1",
        "outputId": "f3b90844-e9b0-4a62-b750-3714c75bca75"
      },
      "execution_count": 21,
      "outputs": [
        {
          "output_type": "stream",
          "name": "stdout",
          "text": [
            "\n",
            "Lasso Coefficients:\n",
            "Feature1    0.002519\n",
            "Feature5    0.002516\n",
            "Feature2    0.002454\n",
            "Feature4    0.000269\n",
            "dtype: float64\n"
          ]
        }
      ]
    }
  ]
}